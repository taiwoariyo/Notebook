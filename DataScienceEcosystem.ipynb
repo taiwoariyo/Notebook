{
 "cells": [
  {
   "cell_type": "markdown",
   "id": "13be829b",
   "metadata": {},
   "source": [
    "# Data Science Tools and Ecosystem"
   ]
  },
  {
   "cell_type": "markdown",
   "id": "18b33c75",
   "metadata": {},
   "source": [
    "This notebook includes a summary of common tools and libraries useful for data science."
   ]
  },
  {
   "cell_type": "markdown",
   "id": "8ccf6495",
   "metadata": {},
   "source": [
    "**Objectives:**\n",
    "- List data science languages.\n",
    "- List data science libraries.\n",
    "- Data Science tools.\n",
    "- Creating tables in Jupyter notebook.\n",
    "- Creating lists in Juputer notebook."
   ]
  },
  {
   "cell_type": "markdown",
   "id": "fdcbb2d2",
   "metadata": {},
   "source": [
    "A few languages commonly used by data scientists around the world today are:\n",
    "\n",
    "1. Python.\n",
    "2. Java.\n",
    "3. Scala.\n",
    "4. C++\n",
    "5. MATLAB"
   ]
  },
  {
   "cell_type": "markdown",
   "id": "d8f6becb",
   "metadata": {},
   "source": [
    "Data science libraries commonly used in the field include:\n",
    "    \n",
    "1. Pandas.\n",
    "2. Numpy.\n",
    "3. Matplotlib.\n",
    "4. Seaborn.\n",
    "5. Scikit-Learn."
   ]
  },
  {
   "cell_type": "markdown",
   "id": "c1f60225",
   "metadata": {},
   "source": [
    "| Data Science Tools |\n",
    "|--------------------|\n",
    "| Jupyter Notebook   |      \n",
    "| Jupyter Lab        |\n",
    "| V.S Code           |"
   ]
  },
  {
   "cell_type": "markdown",
   "id": "b55f8d8e",
   "metadata": {},
   "source": [
    "Below are are some examples showing Arithmetic evaluation of expressions in Python"
   ]
  },
  {
   "cell_type": "code",
   "execution_count": 1,
   "id": "bf2cb7de",
   "metadata": {},
   "outputs": [
    {
     "data": {
      "text/plain": [
       "17"
      ]
     },
     "execution_count": 1,
     "metadata": {},
     "output_type": "execute_result"
    }
   ],
   "source": [
    "#This is a simple Arithmetic expression to multiply and add integers\n",
    "\n",
    "(3*4)+5"
   ]
  },
  {
   "cell_type": "code",
   "execution_count": 4,
   "id": "3486246a",
   "metadata": {},
   "outputs": [
    {
     "name": "stdout",
     "output_type": "stream",
     "text": [
      "3.3333333333333335\n"
     ]
    }
   ],
   "source": [
    "#This expression would convert 200 minutes into hours by dividing the given nunmber of minutes by 60\n",
    "\n",
    "Minutes=200\n",
    "Hours= Minutes/60\n",
    "print(Hours)"
   ]
  },
  {
   "cell_type": "markdown",
   "id": "4e8848df",
   "metadata": {},
   "source": [
    "## Author\n",
    "\n",
    "Taiwo Ariyo"
   ]
  }
 ],
 "metadata": {
  "kernelspec": {
   "display_name": "Python 3 (ipykernel)",
   "language": "python",
   "name": "python3"
  },
  "language_info": {
   "codemirror_mode": {
    "name": "ipython",
    "version": 3
   },
   "file_extension": ".py",
   "mimetype": "text/x-python",
   "name": "python",
   "nbconvert_exporter": "python",
   "pygments_lexer": "ipython3",
   "version": "3.11.5"
  }
 },
 "nbformat": 4,
 "nbformat_minor": 5
}
